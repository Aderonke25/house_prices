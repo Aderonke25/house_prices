{
 "cells": [
  {
   "cell_type": "code",
   "execution_count": 1,
   "id": "20e07c70",
   "metadata": {},
   "outputs": [],
   "source": [
    "# Import libraries\n",
    "import numpy as np\n",
    "import pandas as pd\n",
    "from sklearn.preprocessing import StandardScaler\n",
    "from sklearn.linear_model import LinearRegression\n",
    "from sklearn.model_selection import train_test_split"
   ]
  },
  {
   "cell_type": "code",
   "execution_count": 2,
   "id": "48b8b54d",
   "metadata": {},
   "outputs": [],
   "source": [
    "# Read the file\n",
    "url = \"house_data.csv\"\n",
    "df = pd.read_csv(url, header=0, names=['Rooms', 'Age', 'Distance', 'Accessibility', 'Tax', 'DisadvantagedPosition', 'Crime', 'NiticOxides', 'PupilTeacher', 'Residential', 'NonRetail', 'Price'])"
   ]
  },
  {
   "cell_type": "code",
   "execution_count": 3,
   "id": "8ccfd1cd",
   "metadata": {},
   "outputs": [
    {
     "data": {
      "text/html": [
       "<div>\n",
       "<style scoped>\n",
       "    .dataframe tbody tr th:only-of-type {\n",
       "        vertical-align: middle;\n",
       "    }\n",
       "\n",
       "    .dataframe tbody tr th {\n",
       "        vertical-align: top;\n",
       "    }\n",
       "\n",
       "    .dataframe thead th {\n",
       "        text-align: right;\n",
       "    }\n",
       "</style>\n",
       "<table border=\"1\" class=\"dataframe\">\n",
       "  <thead>\n",
       "    <tr style=\"text-align: right;\">\n",
       "      <th></th>\n",
       "      <th>Rooms</th>\n",
       "      <th>Age</th>\n",
       "      <th>Distance</th>\n",
       "      <th>Accessibility</th>\n",
       "      <th>Tax</th>\n",
       "      <th>DisadvantagedPosition</th>\n",
       "      <th>Crime</th>\n",
       "      <th>NiticOxides</th>\n",
       "      <th>PupilTeacher</th>\n",
       "      <th>Residential</th>\n",
       "      <th>NonRetail</th>\n",
       "      <th>Price</th>\n",
       "    </tr>\n",
       "  </thead>\n",
       "  <tbody>\n",
       "    <tr>\n",
       "      <th>0</th>\n",
       "      <td>5.565</td>\n",
       "      <td>70.6</td>\n",
       "      <td>2.0635</td>\n",
       "      <td>24</td>\n",
       "      <td>666</td>\n",
       "      <td>17.16</td>\n",
       "      <td>8.79212</td>\n",
       "      <td>0.584</td>\n",
       "      <td>20.2</td>\n",
       "      <td>0.0</td>\n",
       "      <td>18.10</td>\n",
       "      <td>11.7</td>\n",
       "    </tr>\n",
       "    <tr>\n",
       "      <th>1</th>\n",
       "      <td>6.879</td>\n",
       "      <td>77.7</td>\n",
       "      <td>3.2721</td>\n",
       "      <td>8</td>\n",
       "      <td>307</td>\n",
       "      <td>9.93</td>\n",
       "      <td>0.62356</td>\n",
       "      <td>0.507</td>\n",
       "      <td>17.4</td>\n",
       "      <td>0.0</td>\n",
       "      <td>6.20</td>\n",
       "      <td>27.5</td>\n",
       "    </tr>\n",
       "    <tr>\n",
       "      <th>2</th>\n",
       "      <td>5.972</td>\n",
       "      <td>76.7</td>\n",
       "      <td>3.1025</td>\n",
       "      <td>4</td>\n",
       "      <td>304</td>\n",
       "      <td>9.97</td>\n",
       "      <td>0.34940</td>\n",
       "      <td>0.544</td>\n",
       "      <td>18.4</td>\n",
       "      <td>0.0</td>\n",
       "      <td>9.90</td>\n",
       "      <td>20.3</td>\n",
       "    </tr>\n",
       "    <tr>\n",
       "      <th>3</th>\n",
       "      <td>6.943</td>\n",
       "      <td>97.4</td>\n",
       "      <td>1.8773</td>\n",
       "      <td>5</td>\n",
       "      <td>403</td>\n",
       "      <td>4.59</td>\n",
       "      <td>1.22358</td>\n",
       "      <td>0.605</td>\n",
       "      <td>14.7</td>\n",
       "      <td>0.0</td>\n",
       "      <td>19.58</td>\n",
       "      <td>41.3</td>\n",
       "    </tr>\n",
       "    <tr>\n",
       "      <th>4</th>\n",
       "      <td>5.926</td>\n",
       "      <td>71.0</td>\n",
       "      <td>2.9084</td>\n",
       "      <td>24</td>\n",
       "      <td>666</td>\n",
       "      <td>18.13</td>\n",
       "      <td>15.57570</td>\n",
       "      <td>0.580</td>\n",
       "      <td>20.2</td>\n",
       "      <td>0.0</td>\n",
       "      <td>18.10</td>\n",
       "      <td>19.1</td>\n",
       "    </tr>\n",
       "  </tbody>\n",
       "</table>\n",
       "</div>"
      ],
      "text/plain": [
       "   Rooms   Age  Distance  Accessibility  Tax  DisadvantagedPosition     Crime  \\\n",
       "0  5.565  70.6    2.0635             24  666                  17.16   8.79212   \n",
       "1  6.879  77.7    3.2721              8  307                   9.93   0.62356   \n",
       "2  5.972  76.7    3.1025              4  304                   9.97   0.34940   \n",
       "3  6.943  97.4    1.8773              5  403                   4.59   1.22358   \n",
       "4  5.926  71.0    2.9084             24  666                  18.13  15.57570   \n",
       "\n",
       "   NiticOxides  PupilTeacher  Residential  NonRetail  Price  \n",
       "0        0.584          20.2          0.0      18.10   11.7  \n",
       "1        0.507          17.4          0.0       6.20   27.5  \n",
       "2        0.544          18.4          0.0       9.90   20.3  \n",
       "3        0.605          14.7          0.0      19.58   41.3  \n",
       "4        0.580          20.2          0.0      18.10   19.1  "
      ]
     },
     "execution_count": 3,
     "metadata": {},
     "output_type": "execute_result"
    }
   ],
   "source": [
    "df.head() # prints the first five rows"
   ]
  },
  {
   "cell_type": "code",
   "execution_count": 4,
   "id": "1bb37d35",
   "metadata": {},
   "outputs": [],
   "source": [
    "# Saved the independent variables in x and dependent variable in y.\n",
    "features = ['Rooms', 'Age', 'Distance', 'Accessibility', 'Tax', 'DisadvantagedPosition', 'Crime', 'NiticOxides', 'PupilTeacher', 'Residential', 'NonRetail']\n",
    "x = df[features].values\n",
    "y = df['Price'].values"
   ]
  },
  {
   "cell_type": "code",
   "execution_count": 5,
   "id": "2011bf95",
   "metadata": {},
   "outputs": [
    {
     "name": "stdout",
     "output_type": "stream",
     "text": [
      "(399, 11)\n",
      "(399,)\n"
     ]
    }
   ],
   "source": [
    "print(x.shape)\n",
    "print(y.shape)"
   ]
  },
  {
   "cell_type": "code",
   "execution_count": 6,
   "id": "54d5d186",
   "metadata": {},
   "outputs": [],
   "source": [
    "# Standardized the data (x and y) using the StandardScaler().fit_transform function\n",
    "x_Stand = StandardScaler().fit_transform(x)\n",
    "y_Stand = StandardScaler().fit_transform(y.reshape(-1, 1))"
   ]
  },
  {
   "cell_type": "code",
   "execution_count": 7,
   "id": "c7e96406",
   "metadata": {
    "scrolled": true
   },
   "outputs": [
    {
     "name": "stdout",
     "output_type": "stream",
     "text": [
      "(319, 11)\n",
      "(319,)\n",
      "(80, 11)\n",
      "(80,)\n"
     ]
    }
   ],
   "source": [
    "# Split the data into train and test datasets with test size = 20%\n",
    "X_train, X_test, y_train, y_test = train_test_split(x_Stand, y_Stand, test_size=0.2)\n",
    "y_train = y_train.reshape(-1) # used to flatten the array elements to a 1D array.\n",
    "y_test = y_test.reshape(-1)\n",
    "print (X_train.shape)\n",
    "print(y_train.shape)\n",
    "print (X_test.shape)\n",
    "print( y_test.shape)"
   ]
  },
  {
   "cell_type": "code",
   "execution_count": 8,
   "id": "595b33be",
   "metadata": {},
   "outputs": [
    {
     "name": "stdout",
     "output_type": "stream",
     "text": [
      "R squared: 0.7439613482940031\n",
      "intercept: -0.0017199218271623453\n",
      "slope: [ 0.29013389  0.01719818 -0.28756635  0.26218168 -0.27272063 -0.48204995\n",
      " -0.11519076 -0.17732149 -0.21232217  0.11084346  0.06342839]\n"
     ]
    }
   ],
   "source": [
    "# Apply LR model on xTrain, yTrain, print the r_squared, the intercept, and the slopes.\n",
    "model = LinearRegression() # this is the OLS model\n",
    "model.fit(X_train, y_train)\n",
    "r_sq = model.score(X_train, y_train)\n",
    "print('R squared:', r_sq)\n",
    "\n",
    "print('intercept:', model.intercept_)\n",
    "\n",
    "print('slope:', model.coef_)"
   ]
  },
  {
   "cell_type": "markdown",
   "id": "c83f9445",
   "metadata": {},
   "source": [
    " -R squared 0.7104 means that 71% of the variance in the dependent variable is explained by the independent variables in the model. this is a reasonably good fit because it is closer to 1.\n",
    " -Intercept -0.011 explains that when all independent variables equal zero, the dependent variable also tend towards zero.\n",
    " -Coefficients - Rooms with positive coefficent 0.2535 shows the most substantial influence on house price predictions in this model. Smaller variables are less likely to be statistically significant."
   ]
  },
  {
   "cell_type": "code",
   "execution_count": 9,
   "id": "caf97211",
   "metadata": {},
   "outputs": [
    {
     "name": "stdout",
     "output_type": "stream",
     "text": [
      "R squared: 0.6921639660121743\n",
      "MSE =  0.2920878470747855\n"
     ]
    }
   ],
   "source": [
    "# Use the model to predict the output for the test data set (xTest),\n",
    "# then find the error (MSE) and r^2\n",
    "y_pred = model.predict(X_test)\n",
    "print('R squared:', model.score(X_test, y_test))\n",
    "\n",
    "y_pred= y_pred.reshape(-1)\n",
    "e = y_test - y_pred\n",
    "\n",
    "print(\"MSE = \",sum(e**2)/83)"
   ]
  },
  {
   "cell_type": "markdown",
   "id": "25fd8aa8",
   "metadata": {},
   "source": [
    "The MSE tells us the average squared difference between the predicted and actual value of the dependent variable. The lower the better and this MSE shows a reasonably good fit, it indicates a relatively small errors on the average."
   ]
  },
  {
   "cell_type": "code",
   "execution_count": 10,
   "id": "2aa59e9f",
   "metadata": {},
   "outputs": [
    {
     "name": "stdout",
     "output_type": "stream",
     "text": [
      "MSE: 0.320\n",
      "Bias: 0.307\n",
      "Variance: 0.013\n"
     ]
    }
   ],
   "source": [
    "# summarize results\n",
    "from mlxtend.evaluate import bias_variance_decomp\n",
    "\n",
    "mse, bias, var = bias_variance_decomp(model, X_train, y_train, X_test, y_test, loss='mse')\n",
    "print('MSE: %.3f' % mse)\n",
    "print('Bias: %.3f' % bias)\n",
    "print('Variance: %.3f' % var)"
   ]
  },
  {
   "cell_type": "markdown",
   "id": "3b1f8a24",
   "metadata": {},
   "source": [
    "Multicollinearity occurs when two or more independent variable in a dataframe have a high correlation with one another in a regression model.This can be examined by calculating the correlation matrix of coefficients."
   ]
  },
  {
   "cell_type": "markdown",
   "id": "8c3ba114",
   "metadata": {},
   "source": [
    "High correlation of coefficients suggest multicollinearity which can affect the interpretablity and stability of the regression model.\n"
   ]
  },
  {
   "cell_type": "code",
   "execution_count": 11,
   "id": "92988965",
   "metadata": {},
   "outputs": [],
   "source": [
    "from statsmodels.stats.outliers_influence import variance_inflation_factor\n"
   ]
  },
  {
   "cell_type": "code",
   "execution_count": 12,
   "id": "8341fd7c",
   "metadata": {},
   "outputs": [
    {
     "data": {
      "text/html": [
       "<div>\n",
       "<style scoped>\n",
       "    .dataframe tbody tr th:only-of-type {\n",
       "        vertical-align: middle;\n",
       "    }\n",
       "\n",
       "    .dataframe tbody tr th {\n",
       "        vertical-align: top;\n",
       "    }\n",
       "\n",
       "    .dataframe thead th {\n",
       "        text-align: right;\n",
       "    }\n",
       "</style>\n",
       "<table border=\"1\" class=\"dataframe\">\n",
       "  <thead>\n",
       "    <tr style=\"text-align: right;\">\n",
       "      <th></th>\n",
       "      <th>Variables</th>\n",
       "      <th>VIF</th>\n",
       "    </tr>\n",
       "  </thead>\n",
       "  <tbody>\n",
       "    <tr>\n",
       "      <th>0</th>\n",
       "      <td>Rooms</td>\n",
       "      <td>73.140393</td>\n",
       "    </tr>\n",
       "    <tr>\n",
       "      <th>1</th>\n",
       "      <td>Age</td>\n",
       "      <td>20.530213</td>\n",
       "    </tr>\n",
       "    <tr>\n",
       "      <th>2</th>\n",
       "      <td>Distance</td>\n",
       "      <td>14.100498</td>\n",
       "    </tr>\n",
       "    <tr>\n",
       "      <th>3</th>\n",
       "      <td>Accessibility</td>\n",
       "      <td>13.804679</td>\n",
       "    </tr>\n",
       "    <tr>\n",
       "      <th>4</th>\n",
       "      <td>Tax</td>\n",
       "      <td>55.873128</td>\n",
       "    </tr>\n",
       "    <tr>\n",
       "      <th>5</th>\n",
       "      <td>DisadvantagedPosition</td>\n",
       "      <td>10.773437</td>\n",
       "    </tr>\n",
       "    <tr>\n",
       "      <th>6</th>\n",
       "      <td>Crime</td>\n",
       "      <td>2.083883</td>\n",
       "    </tr>\n",
       "    <tr>\n",
       "      <th>7</th>\n",
       "      <td>NiticOxides</td>\n",
       "      <td>72.374336</td>\n",
       "    </tr>\n",
       "    <tr>\n",
       "      <th>8</th>\n",
       "      <td>PupilTeacher</td>\n",
       "      <td>76.705813</td>\n",
       "    </tr>\n",
       "    <tr>\n",
       "      <th>9</th>\n",
       "      <td>Residential</td>\n",
       "      <td>2.834652</td>\n",
       "    </tr>\n",
       "    <tr>\n",
       "      <th>10</th>\n",
       "      <td>NonRetail</td>\n",
       "      <td>13.862675</td>\n",
       "    </tr>\n",
       "  </tbody>\n",
       "</table>\n",
       "</div>"
      ],
      "text/plain": [
       "                Variables        VIF\n",
       "0                   Rooms  73.140393\n",
       "1                     Age  20.530213\n",
       "2                Distance  14.100498\n",
       "3           Accessibility  13.804679\n",
       "4                     Tax  55.873128\n",
       "5   DisadvantagedPosition  10.773437\n",
       "6                   Crime   2.083883\n",
       "7             NiticOxides  72.374336\n",
       "8            PupilTeacher  76.705813\n",
       "9             Residential   2.834652\n",
       "10              NonRetail  13.862675"
      ]
     },
     "execution_count": 12,
     "metadata": {},
     "output_type": "execute_result"
    }
   ],
   "source": [
    "\n",
    "# Calculate VIF for each variable\n",
    "def calc_vif(X):\n",
    "    vif = pd.DataFrame()\n",
    "    vif[\"Variables\"] = X.columns\n",
    "    vif[\"VIF\"] = [variance_inflation_factor(X.values, i) for i in range(X.shape[1])]\n",
    "    \n",
    "    return(vif)\n",
    "X = df.iloc[:,:-1]\n",
    "calc_vif(X)\n",
    "\n",
    "\n",
    "# Display the results\n"
   ]
  },
  {
   "cell_type": "markdown",
   "id": "1c0ec119",
   "metadata": {},
   "source": [
    ".Multicollinearity is best assessed by calculating the Variance Inflation Factor (VIF) for each coefficient. \n",
    ".VIF measures the extent of multicollinearity in the model. \n",
    ".VIF less than 5 shows moderate correlation which is generally acceptable.\n",
    ".VIF greater than 5 shows high correlation which indicates potential multicollinearity. \n",
    ".The high VIF's suggest that the variables are highly correlated with eachother in the model, potentially causing multicollinearity issues.\n",
    ".Some of the effects of multicollinearity is that the coefficients become less reliable and might change dramatically with small changes in the data. Also, it becomes extremely difficult to interpret the individual effects of each variable due to the strong interdependence."
   ]
  }
 ],
 "metadata": {
  "kernelspec": {
   "display_name": "Python 3 (ipykernel)",
   "language": "python",
   "name": "python3"
  },
  "language_info": {
   "codemirror_mode": {
    "name": "ipython",
    "version": 3
   },
   "file_extension": ".py",
   "mimetype": "text/x-python",
   "name": "python",
   "nbconvert_exporter": "python",
   "pygments_lexer": "ipython3",
   "version": "3.10.9"
  }
 },
 "nbformat": 4,
 "nbformat_minor": 5
}
